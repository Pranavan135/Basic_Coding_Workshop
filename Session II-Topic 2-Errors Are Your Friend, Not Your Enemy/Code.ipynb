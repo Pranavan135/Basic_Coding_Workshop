{
 "cells": [
  {
   "cell_type": "markdown",
   "metadata": {},
   "source": [
    "<div style=\"width: 100%; padding: 20px;\">\n",
    "    <center>\n",
    "        <img src=\"https://www.nus.edu.sg/images/default-source/identity-images/NUS_logo_full-horizontal.jpg\" width=\"500\">\n",
    "    </center>\n",
    "    <div style=\"font-size: 45px; color:#002147; font-weight: bold; text-align: center; margin-bottom: 50px;\">\n",
    "        Computing Refresher Workshop\n",
    "    </div>\n",
    "    <div style=\"font-size: 32px; color:#FF6F00; text-align: center; margin-bottom: 30px; font-weight: normal;\">\n",
    "        Errors Are Your Friend, Not Your Enemy\n",
    "    </div>\n",
    "    <hr style=\"border: none; border-top: 2px solid #002147; width: 80%; margin: 0 auto 30px auto;\">\n",
    "    <p style=\"text-align:right; font-size: 18px; font-weight: normal; margin-right: 20px;\">\n",
    "        <strong>Materials Prepared by Zikun</strong><br>\n",
    "        <strong>Delivered by Juezhao</strong><br>\n",
    "        Department of Electrical and Computer Engineering\n",
    "    </p>\n",
    "</div>"
   ]
  },
  {
   "cell_type": "markdown",
   "metadata": {},
   "source": [
    "## 📍 1. Quick Win - Your First Error Fix!\n",
    "\n",
    "Let's start with a super simple error that you can fix:"
   ]
  },
  {
   "cell_type": "code",
   "execution_count": 6,
   "metadata": {},
   "outputs": [
    {
     "ename": "NameError",
     "evalue": "name 'prnt' is not defined",
     "output_type": "error",
     "traceback": [
      "\u001b[0;31m---------------------------------------------------------------------------\u001b[0m",
      "\u001b[0;31mNameError\u001b[0m                                 Traceback (most recent call last)",
      "Cell \u001b[0;32mIn[6], line 2\u001b[0m\n\u001b[1;32m      1\u001b[0m \u001b[38;5;66;03m# Quick win - you can fix this!\u001b[39;00m\n\u001b[0;32m----> 2\u001b[0m prnt(\u001b[38;5;124m\"\u001b[39m\u001b[38;5;124mHello World\u001b[39m\u001b[38;5;124m\"\u001b[39m)\n",
      "\u001b[0;31mNameError\u001b[0m: name 'prnt' is not defined"
     ]
    }
   ],
   "source": [
    "# Quick win - you can fix this!\n",
    "prnt(\"Hello World\")  # Simple typo - can you spot it?"
   ]
  },
  {
   "cell_type": "code",
   "execution_count": 8,
   "metadata": {},
   "outputs": [
    {
     "name": "stdout",
     "output_type": "stream",
     "text": [
      "Hello World\n"
     ]
    }
   ],
   "source": [
    "# ✅ Fixed! See how easy that was?\n",
    "print(\"Hello World\")  # Just needed to add the 'i' in print!"
   ]
  },
  {
   "cell_type": "markdown",
   "metadata": {},
   "source": [
    "**Congratulations!** 🎉 You just fixed your first error! The error message told us exactly what was wrong: `NameError: name 'prnt' is not defined`. Python didn't know what 'prnt' was, so we fixed the typo."
   ]
  },
  {
   "cell_type": "markdown",
   "metadata": {},
   "source": [
    "## 📍 2. The \"Scary\" Error - Don't Panic!\n",
    "\n",
    "Here's what a \"scary\" error looks like. **Don't worry** - by the end of this session, you'll be able to read this like a pro!"
   ]
  },
  {
   "cell_type": "code",
   "execution_count": 10,
   "metadata": {},
   "outputs": [
    {
     "ename": "FileNotFoundError",
     "evalue": "[Errno 2] No such file or directory: 'data.json'",
     "output_type": "error",
     "traceback": [
      "\u001b[0;31m---------------------------------------------------------------------------\u001b[0m",
      "\u001b[0;31mFileNotFoundError\u001b[0m                         Traceback (most recent call last)",
      "Cell \u001b[0;32mIn[10], line 26\u001b[0m\n\u001b[1;32m     23\u001b[0m     \u001b[38;5;28;01mreturn\u001b[39;00m transform_results(processed)\n\u001b[1;32m     25\u001b[0m \u001b[38;5;66;03m# This will produce a long, \"scary\" traceback\u001b[39;00m\n\u001b[0;32m---> 26\u001b[0m complex_operation()\n",
      "Cell \u001b[0;32mIn[10], line 21\u001b[0m, in \u001b[0;36mcomplex_operation\u001b[0;34m()\u001b[0m\n\u001b[1;32m     20\u001b[0m \u001b[38;5;28;01mdef\u001b[39;00m \u001b[38;5;21mcomplex_operation\u001b[39m():\n\u001b[0;32m---> 21\u001b[0m     data \u001b[38;5;241m=\u001b[39m load_data(\u001b[38;5;124m'\u001b[39m\u001b[38;5;124mdata.json\u001b[39m\u001b[38;5;124m'\u001b[39m)\n\u001b[1;32m     22\u001b[0m     processed \u001b[38;5;241m=\u001b[39m process_data(data)\n\u001b[1;32m     23\u001b[0m     \u001b[38;5;28;01mreturn\u001b[39;00m transform_results(processed)\n",
      "Cell \u001b[0;32mIn[10], line 5\u001b[0m, in \u001b[0;36mload_data\u001b[0;34m(filename)\u001b[0m\n\u001b[1;32m      4\u001b[0m \u001b[38;5;28;01mdef\u001b[39;00m \u001b[38;5;21mload_data\u001b[39m(filename):\n\u001b[0;32m----> 5\u001b[0m     \u001b[38;5;28;01mwith\u001b[39;00m \u001b[38;5;28mopen\u001b[39m(filename, \u001b[38;5;124m'\u001b[39m\u001b[38;5;124mr\u001b[39m\u001b[38;5;124m'\u001b[39m) \u001b[38;5;28;01mas\u001b[39;00m f:\n\u001b[1;32m      6\u001b[0m         \u001b[38;5;28;01mreturn\u001b[39;00m json\u001b[38;5;241m.\u001b[39mload(f)\n",
      "File \u001b[0;32m/opt/anaconda3/lib/python3.12/site-packages/IPython/core/interactiveshell.py:324\u001b[0m, in \u001b[0;36m_modified_open\u001b[0;34m(file, *args, **kwargs)\u001b[0m\n\u001b[1;32m    317\u001b[0m \u001b[38;5;28;01mif\u001b[39;00m file \u001b[38;5;129;01min\u001b[39;00m {\u001b[38;5;241m0\u001b[39m, \u001b[38;5;241m1\u001b[39m, \u001b[38;5;241m2\u001b[39m}:\n\u001b[1;32m    318\u001b[0m     \u001b[38;5;28;01mraise\u001b[39;00m \u001b[38;5;167;01mValueError\u001b[39;00m(\n\u001b[1;32m    319\u001b[0m         \u001b[38;5;124mf\u001b[39m\u001b[38;5;124m\"\u001b[39m\u001b[38;5;124mIPython won\u001b[39m\u001b[38;5;124m'\u001b[39m\u001b[38;5;124mt let you open fd=\u001b[39m\u001b[38;5;132;01m{\u001b[39;00mfile\u001b[38;5;132;01m}\u001b[39;00m\u001b[38;5;124m by default \u001b[39m\u001b[38;5;124m\"\u001b[39m\n\u001b[1;32m    320\u001b[0m         \u001b[38;5;124m\"\u001b[39m\u001b[38;5;124mas it is likely to crash IPython. If you know what you are doing, \u001b[39m\u001b[38;5;124m\"\u001b[39m\n\u001b[1;32m    321\u001b[0m         \u001b[38;5;124m\"\u001b[39m\u001b[38;5;124myou can use builtins\u001b[39m\u001b[38;5;124m'\u001b[39m\u001b[38;5;124m open.\u001b[39m\u001b[38;5;124m\"\u001b[39m\n\u001b[1;32m    322\u001b[0m     )\n\u001b[0;32m--> 324\u001b[0m \u001b[38;5;28;01mreturn\u001b[39;00m io_open(file, \u001b[38;5;241m*\u001b[39margs, \u001b[38;5;241m*\u001b[39m\u001b[38;5;241m*\u001b[39mkwargs)\n",
      "\u001b[0;31mFileNotFoundError\u001b[0m: [Errno 2] No such file or directory: 'data.json'"
     ]
    }
   ],
   "source": [
    "# The \"scary\" error that we'll demystify\n",
    "import json\n",
    "\n",
    "def load_data(filename):\n",
    "    with open(filename, 'r') as f:\n",
    "        return json.load(f)\n",
    "\n",
    "def process_data(data):\n",
    "    results = []\n",
    "    for item in data['items']:\n",
    "        results.append(analyze_item(item))\n",
    "    return results\n",
    "\n",
    "def analyze_item(item):\n",
    "    return item['value'] * item['quantity']\n",
    "\n",
    "def transform_results(results):\n",
    "    return [r / 100 for r in results]\n",
    "\n",
    "def complex_operation():\n",
    "    data = load_data('data.json')\n",
    "    processed = process_data(data)\n",
    "    return transform_results(processed)\n",
    "\n",
    "# This will produce a long, \"scary\" traceback\n",
    "complex_operation()"
   ]
  },
  {
   "cell_type": "markdown",
   "metadata": {},
   "source": [
    "### See that long error? Don't worry!\n",
    "\n",
    "That traceback might look intimidating, but it's actually telling a story:\n",
    "- The actual error shown will be `FileNotFoundError: [Errno 2] No such file or directory: 'data.json'`\n",
    "- It shows the path through all the functions\n",
    "- The solution for FileNotFoundError is simple: create data.json!\n",
    "\n",
    "We'll learn to read these step by step. For now, let's understand how errors work..."
   ]
  },
  {
   "cell_type": "markdown",
   "metadata": {},
   "source": [
    "## 📍 3. The Anatomy of an Error Message\n",
    "\n",
    "Let's break down a simple error to understand how Python communicates with us."
   ]
  },
  {
   "cell_type": "code",
   "execution_count": 12,
   "metadata": {},
   "outputs": [
    {
     "ename": "NameError",
     "evalue": "name 'hello_world' is not defined",
     "output_type": "error",
     "traceback": [
      "\u001b[0;31m---------------------------------------------------------------------------\u001b[0m",
      "\u001b[0;31mNameError\u001b[0m                                 Traceback (most recent call last)",
      "Cell \u001b[0;32mIn[12], line 2\u001b[0m\n\u001b[1;32m      1\u001b[0m \u001b[38;5;66;03m# Run this cell to see a simple error\u001b[39;00m\n\u001b[0;32m----> 2\u001b[0m \u001b[38;5;28mprint\u001b[39m(hello_world)\n",
      "\u001b[0;31mNameError\u001b[0m: name 'hello_world' is not defined"
     ]
    }
   ],
   "source": [
    "# Run this cell to see a simple error\n",
    "print(hello_world)"
   ]
  },
  {
   "cell_type": "markdown",
   "metadata": {},
   "source": [
    "### Reading the Error Message\n",
    "\n",
    "When you see an error, look for three key parts:\n",
    "1. **Error Type** (NameError) - What kind of problem?\n",
    "2. **Error Message** (name 'hello_world' is not defined) - What specifically went wrong?\n",
    "3. **Location** (line number and arrow) - Where did it happen?\n",
    "\n",
    "### Pro Tip: Read Tracebacks from Bottom to Top!\n",
    "\n",
    "Let's see a more complex error with multiple function calls:"
   ]
  },
  {
   "cell_type": "code",
   "execution_count": 16,
   "metadata": {},
   "outputs": [
    {
     "name": "stdout",
     "output_type": "stream",
     "text": [
      "Alice: 89.0\n"
     ]
    },
    {
     "ename": "ZeroDivisionError",
     "evalue": "division by zero",
     "output_type": "error",
     "traceback": [
      "\u001b[0;31m---------------------------------------------------------------------------\u001b[0m",
      "\u001b[0;31mZeroDivisionError\u001b[0m                         Traceback (most recent call last)",
      "Cell \u001b[0;32mIn[16], line 21\u001b[0m\n\u001b[1;32m     14\u001b[0m \u001b[38;5;66;03m# This will cause an error\u001b[39;00m\n\u001b[1;32m     15\u001b[0m grades_data \u001b[38;5;241m=\u001b[39m {\n\u001b[1;32m     16\u001b[0m     \u001b[38;5;124m\"\u001b[39m\u001b[38;5;124mAlice\u001b[39m\u001b[38;5;124m\"\u001b[39m: [\u001b[38;5;241m90\u001b[39m, \u001b[38;5;241m85\u001b[39m, \u001b[38;5;241m92\u001b[39m],\n\u001b[1;32m     17\u001b[0m     \u001b[38;5;124m\"\u001b[39m\u001b[38;5;124mBob\u001b[39m\u001b[38;5;124m\"\u001b[39m: [],  \u001b[38;5;66;03m# Oops! No grades\u001b[39;00m\n\u001b[1;32m     18\u001b[0m     \u001b[38;5;124m\"\u001b[39m\u001b[38;5;124mCharlie\u001b[39m\u001b[38;5;124m\"\u001b[39m: [\u001b[38;5;241m88\u001b[39m, \u001b[38;5;241m91\u001b[39m, \u001b[38;5;241m87\u001b[39m]\n\u001b[1;32m     19\u001b[0m }\n\u001b[0;32m---> 21\u001b[0m process_grades(grades_data)\n",
      "Cell \u001b[0;32mIn[16], line 11\u001b[0m, in \u001b[0;36mprocess_grades\u001b[0;34m(student_grades)\u001b[0m\n\u001b[1;32m      9\u001b[0m \u001b[38;5;28;01mdef\u001b[39;00m \u001b[38;5;21mprocess_grades\u001b[39m(student_grades):\n\u001b[1;32m     10\u001b[0m     \u001b[38;5;28;01mfor\u001b[39;00m student, grades \u001b[38;5;129;01min\u001b[39;00m student_grades\u001b[38;5;241m.\u001b[39mitems():\n\u001b[0;32m---> 11\u001b[0m         avg \u001b[38;5;241m=\u001b[39m calculate_average(grades)\n\u001b[1;32m     12\u001b[0m         \u001b[38;5;28mprint\u001b[39m(\u001b[38;5;124mf\u001b[39m\u001b[38;5;124m\"\u001b[39m\u001b[38;5;132;01m{\u001b[39;00mstudent\u001b[38;5;132;01m}\u001b[39;00m\u001b[38;5;124m: \u001b[39m\u001b[38;5;132;01m{\u001b[39;00mavg\u001b[38;5;132;01m}\u001b[39;00m\u001b[38;5;124m\"\u001b[39m)\n",
      "Cell \u001b[0;32mIn[16], line 7\u001b[0m, in \u001b[0;36mcalculate_average\u001b[0;34m(numbers)\u001b[0m\n\u001b[1;32m      5\u001b[0m total \u001b[38;5;241m=\u001b[39m \u001b[38;5;28msum\u001b[39m(numbers)\n\u001b[1;32m      6\u001b[0m count \u001b[38;5;241m=\u001b[39m \u001b[38;5;28mlen\u001b[39m(numbers)\n\u001b[0;32m----> 7\u001b[0m \u001b[38;5;28;01mreturn\u001b[39;00m divide_numbers(total, count)\n",
      "Cell \u001b[0;32mIn[16], line 2\u001b[0m, in \u001b[0;36mdivide_numbers\u001b[0;34m(a, b)\u001b[0m\n\u001b[1;32m      1\u001b[0m \u001b[38;5;28;01mdef\u001b[39;00m \u001b[38;5;21mdivide_numbers\u001b[39m(a, b):\n\u001b[0;32m----> 2\u001b[0m     \u001b[38;5;28;01mreturn\u001b[39;00m a \u001b[38;5;241m/\u001b[39m b\n",
      "\u001b[0;31mZeroDivisionError\u001b[0m: division by zero"
     ]
    }
   ],
   "source": [
    "def divide_numbers(a, b):\n",
    "    return a / b\n",
    "\n",
    "def calculate_average(numbers):\n",
    "    total = sum(numbers)\n",
    "    count = len(numbers)\n",
    "    return divide_numbers(total, count)\n",
    "\n",
    "def process_grades(student_grades):\n",
    "    for student, grades in student_grades.items():\n",
    "        avg = calculate_average(grades)\n",
    "        print(f\"{student}: {avg}\")\n",
    "\n",
    "# This will cause an error\n",
    "grades_data = {\n",
    "    \"Alice\": [90, 85, 92],\n",
    "    \"Bob\": [],  # Oops! No grades\n",
    "    \"Charlie\": [88, 91, 87]\n",
    "}\n",
    "\n",
    "process_grades(grades_data)"
   ]
  },
  {
   "cell_type": "markdown",
   "metadata": {},
   "source": [
    "### Understanding the Traceback\n",
    "\n",
    "Notice how the traceback shows:\n",
    "- The chain of function calls (process_grades → calculate_average → divide_numbers)\n",
    "- The exact line in each function\n",
    "- The actual error at the bottom\n",
    "\n",
    "Start reading from the bottom: \"ZeroDivisionError: division by zero\"\n",
    "Then trace back up to see how we got there!"
   ]
  },
  {
   "cell_type": "markdown",
   "metadata": {},
   "source": [
    "## 📍 4. Essential Error Types\n",
    "\n",
    "Each error type teaches us something specific about Python. Let's meet our essential teachers!\n",
    "\n",
    "### For Live Demo:\n",
    "- **NameError** - The Spell Checker\n",
    "- **TypeError** - The Type Guardian  \n",
    "- **IndexError** - The Boundary Guard\n",
    "- **KeyError** - The Dictionary Detective\n",
    "\n",
    "### 📖 For Self-Study:\n",
    "- SyntaxError, ValueError, AttributeError, ZeroDivisionError, IndentationError\n",
    "- FileNotFoundError, ModuleNotFoundError, UnboundLocalError\n",
    "- OverflowError, NotImplementedError"
   ]
  },
  {
   "cell_type": "markdown",
   "metadata": {},
   "source": [
    "### 📍 NameError - The Spell Checker"
   ]
  },
  {
   "cell_type": "code",
   "execution_count": 18,
   "metadata": {},
   "outputs": [
    {
     "ename": "NameError",
     "evalue": "name 'mesage' is not defined",
     "output_type": "error",
     "traceback": [
      "\u001b[0;31m---------------------------------------------------------------------------\u001b[0m",
      "\u001b[0;31mNameError\u001b[0m                                 Traceback (most recent call last)",
      "Cell \u001b[0;32mIn[18], line 3\u001b[0m\n\u001b[1;32m      1\u001b[0m \u001b[38;5;66;03m# Typo in variable name\u001b[39;00m\n\u001b[1;32m      2\u001b[0m message \u001b[38;5;241m=\u001b[39m \u001b[38;5;124m\"\u001b[39m\u001b[38;5;124mHello, World!\u001b[39m\u001b[38;5;124m\"\u001b[39m\n\u001b[0;32m----> 3\u001b[0m \u001b[38;5;28mprint\u001b[39m(mesage)\n",
      "\u001b[0;31mNameError\u001b[0m: name 'mesage' is not defined"
     ]
    }
   ],
   "source": [
    "# Typo in variable name\n",
    "message = \"Hello, World!\"\n",
    "print(mesage)  # Oops, missing an 's'"
   ]
  },
  {
   "cell_type": "code",
   "execution_count": 20,
   "metadata": {},
   "outputs": [
    {
     "name": "stdout",
     "output_type": "stream",
     "text": [
      "Hello, World!\n"
     ]
    }
   ],
   "source": [
    "# ✅ Fixed version\n",
    "message = \"Hello, World!\"\n",
    "print(message)"
   ]
  },
  {
   "cell_type": "code",
   "execution_count": 22,
   "metadata": {},
   "outputs": [
    {
     "ename": "NameError",
     "evalue": "name 'result' is not defined",
     "output_type": "error",
     "traceback": [
      "\u001b[0;31m---------------------------------------------------------------------------\u001b[0m",
      "\u001b[0;31mNameError\u001b[0m                                 Traceback (most recent call last)",
      "Cell \u001b[0;32mIn[22], line 2\u001b[0m\n\u001b[1;32m      1\u001b[0m \u001b[38;5;66;03m# Using before defining\u001b[39;00m\n\u001b[0;32m----> 2\u001b[0m \u001b[38;5;28mprint\u001b[39m(result)\n\u001b[1;32m      3\u001b[0m result \u001b[38;5;241m=\u001b[39m \u001b[38;5;241m42\u001b[39m\n",
      "\u001b[0;31mNameError\u001b[0m: name 'result' is not defined"
     ]
    }
   ],
   "source": [
    "# Using before defining\n",
    "print(result)\n",
    "result = 42"
   ]
  },
  {
   "cell_type": "code",
   "execution_count": 24,
   "metadata": {},
   "outputs": [
    {
     "name": "stdout",
     "output_type": "stream",
     "text": [
      "42\n"
     ]
    }
   ],
   "source": [
    "# ✅ Fixed version\n",
    "result = 42\n",
    "print(result)"
   ]
  },
  {
   "cell_type": "markdown",
   "metadata": {},
   "source": [
    "### 📍 TypeError - The Type Guardian"
   ]
  },
  {
   "cell_type": "code",
   "execution_count": 26,
   "metadata": {},
   "outputs": [
    {
     "ename": "TypeError",
     "evalue": "can only concatenate str (not \"int\") to str",
     "output_type": "error",
     "traceback": [
      "\u001b[0;31m---------------------------------------------------------------------------\u001b[0m",
      "\u001b[0;31mTypeError\u001b[0m                                 Traceback (most recent call last)",
      "Cell \u001b[0;32mIn[26], line 3\u001b[0m\n\u001b[1;32m      1\u001b[0m \u001b[38;5;66;03m# Can't add string and integer\u001b[39;00m\n\u001b[1;32m      2\u001b[0m age \u001b[38;5;241m=\u001b[39m \u001b[38;5;241m25\u001b[39m\n\u001b[0;32m----> 3\u001b[0m message \u001b[38;5;241m=\u001b[39m \u001b[38;5;124m\"\u001b[39m\u001b[38;5;124mI am \u001b[39m\u001b[38;5;124m\"\u001b[39m \u001b[38;5;241m+\u001b[39m age \u001b[38;5;241m+\u001b[39m \u001b[38;5;124m\"\u001b[39m\u001b[38;5;124m years old\u001b[39m\u001b[38;5;124m\"\u001b[39m\n",
      "\u001b[0;31mTypeError\u001b[0m: can only concatenate str (not \"int\") to str"
     ]
    }
   ],
   "source": [
    "# Can't add string and integer\n",
    "age = 25\n",
    "message = \"I am \" + age + \" years old\""
   ]
  },
  {
   "cell_type": "code",
   "execution_count": 28,
   "metadata": {},
   "outputs": [
    {
     "name": "stdout",
     "output_type": "stream",
     "text": [
      "I am 25 years old\n",
      "I am 25 years old\n"
     ]
    }
   ],
   "source": [
    "# ✅ Fixed version - convert to string\n",
    "age = 25\n",
    "message = \"I am \" + str(age) + \" years old\"\n",
    "print(message)\n",
    "\n",
    "# Or use f-strings (even better!)\n",
    "message = f\"I am {age} years old\"\n",
    "print(message)"
   ]
  },
  {
   "cell_type": "code",
   "execution_count": 30,
   "metadata": {},
   "outputs": [
    {
     "ename": "TypeError",
     "evalue": "greet() missing 1 required positional argument: 'age'",
     "output_type": "error",
     "traceback": [
      "\u001b[0;31m---------------------------------------------------------------------------\u001b[0m",
      "\u001b[0;31mTypeError\u001b[0m                                 Traceback (most recent call last)",
      "Cell \u001b[0;32mIn[30], line 6\u001b[0m\n\u001b[1;32m      3\u001b[0m     \u001b[38;5;28;01mreturn\u001b[39;00m \u001b[38;5;124mf\u001b[39m\u001b[38;5;124m\"\u001b[39m\u001b[38;5;124mHello \u001b[39m\u001b[38;5;132;01m{\u001b[39;00mname\u001b[38;5;132;01m}\u001b[39;00m\u001b[38;5;124m, you are \u001b[39m\u001b[38;5;132;01m{\u001b[39;00mage\u001b[38;5;132;01m}\u001b[39;00m\u001b[38;5;124m years old\u001b[39m\u001b[38;5;124m\"\u001b[39m\n\u001b[1;32m      5\u001b[0m \u001b[38;5;66;03m# Forgot to provide age\u001b[39;00m\n\u001b[0;32m----> 6\u001b[0m greet(\u001b[38;5;124m\"\u001b[39m\u001b[38;5;124mAlice\u001b[39m\u001b[38;5;124m\"\u001b[39m)\n",
      "\u001b[0;31mTypeError\u001b[0m: greet() missing 1 required positional argument: 'age'"
     ]
    }
   ],
   "source": [
    "# Wrong number of arguments\n",
    "def greet(name, age):\n",
    "    return f\"Hello {name}, you are {age} years old\"\n",
    "\n",
    "# Forgot to provide age\n",
    "greet(\"Alice\")"
   ]
  },
  {
   "cell_type": "code",
   "execution_count": 32,
   "metadata": {},
   "outputs": [
    {
     "data": {
      "text/plain": [
       "'Hello Alice, you are 25 years old'"
      ]
     },
     "execution_count": 32,
     "metadata": {},
     "output_type": "execute_result"
    }
   ],
   "source": [
    "# ✅ Fixed version\n",
    "greet(\"Alice\", 25)"
   ]
  },
  {
   "cell_type": "markdown",
   "metadata": {},
   "source": [
    "### 📍 IndexError - The Boundary Guard"
   ]
  },
  {
   "cell_type": "code",
   "execution_count": 34,
   "metadata": {},
   "outputs": [
    {
     "ename": "IndexError",
     "evalue": "list index out of range",
     "output_type": "error",
     "traceback": [
      "\u001b[0;31m---------------------------------------------------------------------------\u001b[0m",
      "\u001b[0;31mIndexError\u001b[0m                                Traceback (most recent call last)",
      "Cell \u001b[0;32mIn[34], line 3\u001b[0m\n\u001b[1;32m      1\u001b[0m \u001b[38;5;66;03m# List index out of range\u001b[39;00m\n\u001b[1;32m      2\u001b[0m fruits \u001b[38;5;241m=\u001b[39m [\u001b[38;5;124m\"\u001b[39m\u001b[38;5;124mapple\u001b[39m\u001b[38;5;124m\"\u001b[39m, \u001b[38;5;124m\"\u001b[39m\u001b[38;5;124mbanana\u001b[39m\u001b[38;5;124m\"\u001b[39m, \u001b[38;5;124m\"\u001b[39m\u001b[38;5;124morange\u001b[39m\u001b[38;5;124m\"\u001b[39m]\n\u001b[0;32m----> 3\u001b[0m \u001b[38;5;28mprint\u001b[39m(fruits[\u001b[38;5;241m3\u001b[39m])\n",
      "\u001b[0;31mIndexError\u001b[0m: list index out of range"
     ]
    }
   ],
   "source": [
    "# List index out of range\n",
    "fruits = [\"apple\", \"banana\", \"orange\"]\n",
    "print(fruits[3])  # Lists are 0-indexed, so max index is 2"
   ]
  },
  {
   "cell_type": "code",
   "execution_count": 36,
   "metadata": {},
   "outputs": [
    {
     "name": "stdout",
     "output_type": "stream",
     "text": [
      "Index 3 is out of range. List has 3 items.\n"
     ]
    }
   ],
   "source": [
    "# ✅ Fixed version - check length first\n",
    "fruits = [\"apple\", \"banana\", \"orange\"]\n",
    "index = 3\n",
    "if index < len(fruits):\n",
    "    print(fruits[index])\n",
    "else:\n",
    "    print(f\"Index {index} is out of range. List has {len(fruits)} items.\")"
   ]
  },
  {
   "cell_type": "code",
   "execution_count": 38,
   "metadata": {},
   "outputs": [
    {
     "ename": "IndexError",
     "evalue": "list index out of range",
     "output_type": "error",
     "traceback": [
      "\u001b[0;31m---------------------------------------------------------------------------\u001b[0m",
      "\u001b[0;31mIndexError\u001b[0m                                Traceback (most recent call last)",
      "Cell \u001b[0;32mIn[38], line 3\u001b[0m\n\u001b[1;32m      1\u001b[0m \u001b[38;5;66;03m# Empty list access\u001b[39;00m\n\u001b[1;32m      2\u001b[0m empty_list \u001b[38;5;241m=\u001b[39m []\n\u001b[0;32m----> 3\u001b[0m first_item \u001b[38;5;241m=\u001b[39m empty_list[\u001b[38;5;241m0\u001b[39m]\n",
      "\u001b[0;31mIndexError\u001b[0m: list index out of range"
     ]
    }
   ],
   "source": [
    "# Empty list access\n",
    "empty_list = []\n",
    "first_item = empty_list[0]"
   ]
  },
  {
   "cell_type": "code",
   "execution_count": 40,
   "metadata": {},
   "outputs": [
    {
     "name": "stdout",
     "output_type": "stream",
     "text": [
      "List is empty!\n"
     ]
    }
   ],
   "source": [
    "# ✅ Fixed version - check if list is empty\n",
    "my_list = []\n",
    "if my_list:\n",
    "    first_item = my_list[0]\n",
    "else:\n",
    "    print(\"List is empty!\")"
   ]
  },
  {
   "cell_type": "markdown",
   "metadata": {},
   "source": [
    "### 📍 KeyError - The Dictionary Detective"
   ]
  },
  {
   "cell_type": "code",
   "execution_count": 42,
   "metadata": {},
   "outputs": [
    {
     "ename": "KeyError",
     "evalue": "'Charlie'",
     "output_type": "error",
     "traceback": [
      "\u001b[0;31m---------------------------------------------------------------------------\u001b[0m",
      "\u001b[0;31mKeyError\u001b[0m                                  Traceback (most recent call last)",
      "Cell \u001b[0;32mIn[42], line 3\u001b[0m\n\u001b[1;32m      1\u001b[0m \u001b[38;5;66;03m# Missing dictionary key\u001b[39;00m\n\u001b[1;32m      2\u001b[0m student_scores \u001b[38;5;241m=\u001b[39m {\u001b[38;5;124m\"\u001b[39m\u001b[38;5;124mAlice\u001b[39m\u001b[38;5;124m\"\u001b[39m: \u001b[38;5;241m95\u001b[39m, \u001b[38;5;124m\"\u001b[39m\u001b[38;5;124mBob\u001b[39m\u001b[38;5;124m\"\u001b[39m: \u001b[38;5;241m87\u001b[39m}\n\u001b[0;32m----> 3\u001b[0m \u001b[38;5;28mprint\u001b[39m(student_scores[\u001b[38;5;124m\"\u001b[39m\u001b[38;5;124mCharlie\u001b[39m\u001b[38;5;124m\"\u001b[39m])\n",
      "\u001b[0;31mKeyError\u001b[0m: 'Charlie'"
     ]
    }
   ],
   "source": [
    "# Missing dictionary key\n",
    "student_scores = {\"Alice\": 95, \"Bob\": 87}\n",
    "print(student_scores[\"Charlie\"])  # Charlie isn't in the dictionary"
   ]
  },
  {
   "cell_type": "code",
   "execution_count": 44,
   "metadata": {},
   "outputs": [
    {
     "name": "stdout",
     "output_type": "stream",
     "text": [
      "Charlie's score: No score found\n",
      "Charlie not found in scores\n"
     ]
    }
   ],
   "source": [
    "# ✅ Fixed version - use .get() method\n",
    "student_scores = {\"Alice\": 95, \"Bob\": 87}\n",
    "charlie_score = student_scores.get(\"Charlie\", \"No score found\")\n",
    "print(f\"Charlie's score: {charlie_score}\")\n",
    "\n",
    "# Or check if key exists\n",
    "if \"Charlie\" in student_scores:\n",
    "    print(student_scores[\"Charlie\"])\n",
    "else:\n",
    "    print(\"Charlie not found in scores\")"
   ]
  },
  {
   "cell_type": "markdown",
   "metadata": {},
   "source": [
    "### FileNotFoundError - The File Finder"
   ]
  },
  {
   "cell_type": "code",
   "execution_count": null,
   "metadata": {},
   "outputs": [],
   "source": [
    "# Opening non-existent file\n",
    "with open(\"this_file_does_not_exist.txt\", \"r\") as f:\n",
    "    content = f.read()"
   ]
  },
  {
   "cell_type": "code",
   "execution_count": null,
   "metadata": {},
   "outputs": [],
   "source": [
    "### ModuleNotFoundError - The Import Inspector"
   ]
  },
  {
   "cell_type": "code",
   "execution_count": null,
   "metadata": {},
   "outputs": [],
   "source": [
    "# Trying to import non-existent module\n",
    "import my_imaginary_module"
   ]
  },
  {
   "cell_type": "markdown",
   "metadata": {},
   "source": [
    "## 📍 5. Error-Driven Development\n",
    "\n",
    "Let's see how errors guide us from broken code to working code. This is a real-world example of parsing user data."
   ]
  },
  {
   "cell_type": "code",
   "execution_count": 46,
   "metadata": {},
   "outputs": [],
   "source": [
    "# Define our test data first\n",
    "raw_data = [\n",
    "    \"Alice,25,alice@email.com\",\n",
    "    \"Bob,thirty,bob@email.com\",\n",
    "    \"Charlie,28\",\n",
    "    \"David,35,david@email.com,extra_field\"\n",
    "]"
   ]
  },
  {
   "cell_type": "code",
   "execution_count": 50,
   "metadata": {},
   "outputs": [
    {
     "ename": "SyntaxError",
     "evalue": "expected ':' (2575827674.py, line 4)",
     "output_type": "error",
     "traceback": [
      "\u001b[0;36m  Cell \u001b[0;32mIn[50], line 4\u001b[0;36m\u001b[0m\n\u001b[0;31m    for line in data\u001b[0m\n\u001b[0m                    ^\u001b[0m\n\u001b[0;31mSyntaxError\u001b[0m\u001b[0;31m:\u001b[0m expected ':'\n"
     ]
    }
   ],
   "source": [
    "# Starting with completely broken code\n",
    "def process_user_data(data):\n",
    "    users = []\n",
    "    for line in data\n",
    "        name, age, email = line.split(',')\n",
    "        users.append({\n",
    "            'name': name\n",
    "            'age': int(age),\n",
    "            'email': email\n",
    "        })\n",
    "    return users\n",
    "\n",
    "# Test data\n",
    "raw_data = [\n",
    "    \"Alice,25,alice@email.com\",\n",
    "    \"Bob,thirty,bob@email.com\",\n",
    "    \"Charlie,28\",\n",
    "    \"David,35,david@email.com,extra_field\"\n",
    "]\n",
    "\n",
    "result = process_user_data(raw_data)\n",
    "print(result)"
   ]
  },
  {
   "cell_type": "code",
   "execution_count": 52,
   "metadata": {},
   "outputs": [
    {
     "ename": "SyntaxError",
     "evalue": "invalid syntax (1422365529.py, line 8)",
     "output_type": "error",
     "traceback": [
      "\u001b[0;36m  Cell \u001b[0;32mIn[52], line 8\u001b[0;36m\u001b[0m\n\u001b[0;31m    'age': int(age),\u001b[0m\n\u001b[0m    ^\u001b[0m\n\u001b[0;31mSyntaxError\u001b[0m\u001b[0;31m:\u001b[0m invalid syntax\n"
     ]
    }
   ],
   "source": [
    "# Fix #1: Add missing colon after for loop\n",
    "def process_user_data(data):\n",
    "    users = []\n",
    "    for line in data:  # Fixed: added colon\n",
    "        name, age, email = line.split(',')\n",
    "        users.append({\n",
    "            'name': name\n",
    "            'age': int(age),\n",
    "            'email': email\n",
    "        })\n",
    "    return users\n",
    "\n",
    "result = process_user_data(raw_data)\n",
    "print(result)"
   ]
  },
  {
   "cell_type": "code",
   "execution_count": 54,
   "metadata": {},
   "outputs": [
    {
     "ename": "ValueError",
     "evalue": "invalid literal for int() with base 10: 'thirty'",
     "output_type": "error",
     "traceback": [
      "\u001b[0;31m---------------------------------------------------------------------------\u001b[0m",
      "\u001b[0;31mValueError\u001b[0m                                Traceback (most recent call last)",
      "Cell \u001b[0;32mIn[54], line 13\u001b[0m\n\u001b[1;32m      6\u001b[0m         users\u001b[38;5;241m.\u001b[39mappend({\n\u001b[1;32m      7\u001b[0m             \u001b[38;5;124m'\u001b[39m\u001b[38;5;124mname\u001b[39m\u001b[38;5;124m'\u001b[39m: name,  \u001b[38;5;66;03m# Fixed: added comma\u001b[39;00m\n\u001b[1;32m      8\u001b[0m             \u001b[38;5;124m'\u001b[39m\u001b[38;5;124mage\u001b[39m\u001b[38;5;124m'\u001b[39m: \u001b[38;5;28mint\u001b[39m(age),\n\u001b[1;32m      9\u001b[0m             \u001b[38;5;124m'\u001b[39m\u001b[38;5;124memail\u001b[39m\u001b[38;5;124m'\u001b[39m: email\n\u001b[1;32m     10\u001b[0m         })\n\u001b[1;32m     11\u001b[0m     \u001b[38;5;28;01mreturn\u001b[39;00m users\n\u001b[0;32m---> 13\u001b[0m result \u001b[38;5;241m=\u001b[39m process_user_data(raw_data)\n\u001b[1;32m     14\u001b[0m \u001b[38;5;28mprint\u001b[39m(result)\n",
      "Cell \u001b[0;32mIn[54], line 8\u001b[0m, in \u001b[0;36mprocess_user_data\u001b[0;34m(data)\u001b[0m\n\u001b[1;32m      4\u001b[0m \u001b[38;5;28;01mfor\u001b[39;00m line \u001b[38;5;129;01min\u001b[39;00m data:\n\u001b[1;32m      5\u001b[0m     name, age, email \u001b[38;5;241m=\u001b[39m line\u001b[38;5;241m.\u001b[39msplit(\u001b[38;5;124m'\u001b[39m\u001b[38;5;124m,\u001b[39m\u001b[38;5;124m'\u001b[39m)\n\u001b[1;32m      6\u001b[0m     users\u001b[38;5;241m.\u001b[39mappend({\n\u001b[1;32m      7\u001b[0m         \u001b[38;5;124m'\u001b[39m\u001b[38;5;124mname\u001b[39m\u001b[38;5;124m'\u001b[39m: name,  \u001b[38;5;66;03m# Fixed: added comma\u001b[39;00m\n\u001b[0;32m----> 8\u001b[0m         \u001b[38;5;124m'\u001b[39m\u001b[38;5;124mage\u001b[39m\u001b[38;5;124m'\u001b[39m: \u001b[38;5;28mint\u001b[39m(age),\n\u001b[1;32m      9\u001b[0m         \u001b[38;5;124m'\u001b[39m\u001b[38;5;124memail\u001b[39m\u001b[38;5;124m'\u001b[39m: email\n\u001b[1;32m     10\u001b[0m     })\n\u001b[1;32m     11\u001b[0m \u001b[38;5;28;01mreturn\u001b[39;00m users\n",
      "\u001b[0;31mValueError\u001b[0m: invalid literal for int() with base 10: 'thirty'"
     ]
    }
   ],
   "source": [
    "# Fix #2: Add missing comma in dictionary\n",
    "def process_user_data(data):\n",
    "    users = []\n",
    "    for line in data:\n",
    "        name, age, email = line.split(',')\n",
    "        users.append({\n",
    "            'name': name,  # Fixed: added comma\n",
    "            'age': int(age),\n",
    "            'email': email\n",
    "        })\n",
    "    return users\n",
    "\n",
    "result = process_user_data(raw_data)\n",
    "print(result)"
   ]
  },
  {
   "cell_type": "code",
   "execution_count": 56,
   "metadata": {},
   "outputs": [
    {
     "name": "stdout",
     "output_type": "stream",
     "text": [
      "Warning: Invalid age 'thirty' for Bob, skipping...\n"
     ]
    },
    {
     "ename": "ValueError",
     "evalue": "not enough values to unpack (expected 3, got 2)",
     "output_type": "error",
     "traceback": [
      "\u001b[0;31m---------------------------------------------------------------------------\u001b[0m",
      "\u001b[0;31mValueError\u001b[0m                                Traceback (most recent call last)",
      "Cell \u001b[0;32mIn[56], line 19\u001b[0m\n\u001b[1;32m     12\u001b[0m         users\u001b[38;5;241m.\u001b[39mappend({\n\u001b[1;32m     13\u001b[0m             \u001b[38;5;124m'\u001b[39m\u001b[38;5;124mname\u001b[39m\u001b[38;5;124m'\u001b[39m: name,\n\u001b[1;32m     14\u001b[0m             \u001b[38;5;124m'\u001b[39m\u001b[38;5;124mage\u001b[39m\u001b[38;5;124m'\u001b[39m: age_int,\n\u001b[1;32m     15\u001b[0m             \u001b[38;5;124m'\u001b[39m\u001b[38;5;124memail\u001b[39m\u001b[38;5;124m'\u001b[39m: email\n\u001b[1;32m     16\u001b[0m         })\n\u001b[1;32m     17\u001b[0m     \u001b[38;5;28;01mreturn\u001b[39;00m users\n\u001b[0;32m---> 19\u001b[0m result \u001b[38;5;241m=\u001b[39m process_user_data(raw_data)\n\u001b[1;32m     20\u001b[0m \u001b[38;5;28mprint\u001b[39m(result)\n",
      "Cell \u001b[0;32mIn[56], line 5\u001b[0m, in \u001b[0;36mprocess_user_data\u001b[0;34m(data)\u001b[0m\n\u001b[1;32m      3\u001b[0m users \u001b[38;5;241m=\u001b[39m []\n\u001b[1;32m      4\u001b[0m \u001b[38;5;28;01mfor\u001b[39;00m line \u001b[38;5;129;01min\u001b[39;00m data:\n\u001b[0;32m----> 5\u001b[0m     name, age, email \u001b[38;5;241m=\u001b[39m line\u001b[38;5;241m.\u001b[39msplit(\u001b[38;5;124m'\u001b[39m\u001b[38;5;124m,\u001b[39m\u001b[38;5;124m'\u001b[39m)\n\u001b[1;32m      6\u001b[0m     \u001b[38;5;28;01mtry\u001b[39;00m:\n\u001b[1;32m      7\u001b[0m         age_int \u001b[38;5;241m=\u001b[39m \u001b[38;5;28mint\u001b[39m(age)\n",
      "\u001b[0;31mValueError\u001b[0m: not enough values to unpack (expected 3, got 2)"
     ]
    }
   ],
   "source": [
    "# Fix #3: Handle non-integer age\n",
    "def process_user_data(data):\n",
    "    users = []\n",
    "    for line in data:\n",
    "        name, age, email = line.split(',')\n",
    "        try:\n",
    "            age_int = int(age)\n",
    "        except ValueError:\n",
    "            print(f\"Warning: Invalid age '{age}' for {name}, skipping...\")\n",
    "            continue\n",
    "            \n",
    "        users.append({\n",
    "            'name': name,\n",
    "            'age': age_int,\n",
    "            'email': email\n",
    "        })\n",
    "    return users\n",
    "\n",
    "result = process_user_data(raw_data)\n",
    "print(result)"
   ]
  },
  {
   "cell_type": "code",
   "execution_count": 58,
   "metadata": {},
   "outputs": [
    {
     "name": "stdout",
     "output_type": "stream",
     "text": [
      "Warning: Invalid age 'thirty' for Bob, skipping...\n",
      "Warning: Missing fields in line: Charlie,28\n",
      "Warning: Extra fields in line: David,35,david@email.com,extra_field\n",
      "\n",
      "Processed users:\n",
      "{'name': 'Alice', 'age': 25, 'email': 'alice@email.com'}\n",
      "{'name': 'David', 'age': 35, 'email': 'david@email.com'}\n"
     ]
    }
   ],
   "source": [
    "# Fix #4: Handle wrong number of fields\n",
    "def process_user_data(data):\n",
    "    users = []\n",
    "    for line in data:\n",
    "        parts = line.split(',')\n",
    "        \n",
    "        if len(parts) < 3:\n",
    "            print(f\"Warning: Missing fields in line: {line}\")\n",
    "            continue\n",
    "        elif len(parts) > 3:\n",
    "            print(f\"Warning: Extra fields in line: {line}\")\n",
    "            # Take only first 3 fields\n",
    "            parts = parts[:3]\n",
    "            \n",
    "        name, age, email = parts\n",
    "        \n",
    "        try:\n",
    "            age_int = int(age.strip())\n",
    "        except ValueError:\n",
    "            print(f\"Warning: Invalid age '{age}' for {name}, skipping...\")\n",
    "            continue\n",
    "            \n",
    "        users.append({\n",
    "            'name': name.strip(),\n",
    "            'age': age_int,\n",
    "            'email': email.strip()\n",
    "        })\n",
    "    return users\n",
    "\n",
    "# Success! Our code handles all the edge cases\n",
    "result = process_user_data(raw_data)\n",
    "print(\"\\nProcessed users:\")\n",
    "for user in result:\n",
    "    print(user)"
   ]
  },
  {
   "cell_type": "markdown",
   "metadata": {},
   "source": [
    "### Key Lesson: Each Error Was Progress!\n",
    "\n",
    "Notice how we went through multiple errors:\n",
    "1. SyntaxError → Fixed missing colon\n",
    "2. SyntaxError → Fixed missing comma\n",
    "3. ValueError → Added error handling for non-integer age\n",
    "4. ValueError → Handled wrong number of fields\n",
    "\n",
    "Each error taught us something about our data and made our code more robust!"
   ]
  },
  {
   "cell_type": "markdown",
   "metadata": {},
   "source": [
    "## 📍 6. The Debugging Mindset\n",
    "\n",
    "Let's practice systematic debugging with a function that has a subtle bug."
   ]
  },
  {
   "cell_type": "code",
   "execution_count": 60,
   "metadata": {},
   "outputs": [
    {
     "name": "stdout",
     "output_type": "stream",
     "text": [
      "Data: [1, 2, 3, 4, 5] → Average: 3.0\n",
      "Data: [-1, -2, 3, 4, 5] → Average: 2.4\n",
      "Data: [-1, -2, -3] → Average: 0.0\n",
      "Data: [] → Error: division by zero\n"
     ]
    }
   ],
   "source": [
    "# This function should calculate the average of positive numbers only\n",
    "def average_positive_numbers(numbers):\n",
    "    total = 0\n",
    "    count = 0\n",
    "    \n",
    "    for num in numbers:\n",
    "        if num > 0:\n",
    "            total += num\n",
    "        count += 1  # Bug: counting all numbers, not just positive ones!\n",
    "    \n",
    "    return total / count\n",
    "\n",
    "# Test cases\n",
    "test_data = [\n",
    "    [1, 2, 3, 4, 5],      # All positive\n",
    "    [-1, -2, 3, 4, 5],    # Mix of positive and negative\n",
    "    [-1, -2, -3],         # All negative\n",
    "    []                    # Empty list\n",
    "]\n",
    "\n",
    "for data in test_data:\n",
    "    try:\n",
    "        result = average_positive_numbers(data)\n",
    "        print(f\"Data: {data} → Average: {result}\")\n",
    "    except Exception as e:\n",
    "        print(f\"Data: {data} → Error: {e}\")"
   ]
  },
  {
   "cell_type": "markdown",
   "metadata": {},
   "source": [
    "### Let's Debug Systematically"
   ]
  },
  {
   "cell_type": "code",
   "execution_count": 62,
   "metadata": {},
   "outputs": [
    {
     "name": "stdout",
     "output_type": "stream",
     "text": [
      "\n",
      "Processing: [-1, -2, 3, 4, 5]\n",
      "  Number: -1, Is positive: False\n",
      "    Count incremented to: 1\n",
      "  Number: -2, Is positive: False\n",
      "    Count incremented to: 2\n",
      "  Number: 3, Is positive: True\n",
      "    Added to total. New total: 3\n",
      "    Count incremented to: 3\n",
      "  Number: 4, Is positive: True\n",
      "    Added to total. New total: 7\n",
      "    Count incremented to: 4\n",
      "  Number: 5, Is positive: True\n",
      "    Added to total. New total: 12\n",
      "    Count incremented to: 5\n",
      "Final - Total: 12, Count: 5\n"
     ]
    },
    {
     "data": {
      "text/plain": [
       "2.4"
      ]
     },
     "execution_count": 62,
     "metadata": {},
     "output_type": "execute_result"
    }
   ],
   "source": [
    "# Step 1: Read the error message\n",
    "# We see division by zero for all negative numbers\n",
    "# Let's add print statements to understand what's happening\n",
    "\n",
    "def average_positive_numbers_debug(numbers):\n",
    "    total = 0\n",
    "    count = 0\n",
    "    \n",
    "    print(f\"\\nProcessing: {numbers}\")\n",
    "    \n",
    "    for num in numbers:\n",
    "        print(f\"  Number: {num}, Is positive: {num > 0}\")\n",
    "        if num > 0:\n",
    "            total += num\n",
    "            print(f\"    Added to total. New total: {total}\")\n",
    "        count += 1\n",
    "        print(f\"    Count incremented to: {count}\")\n",
    "    \n",
    "    print(f\"Final - Total: {total}, Count: {count}\")\n",
    "    return total / count\n",
    "\n",
    "# Test with mixed data\n",
    "average_positive_numbers_debug([-1, -2, 3, 4, 5])"
   ]
  },
  {
   "cell_type": "code",
   "execution_count": 64,
   "metadata": {},
   "outputs": [
    {
     "name": "stdout",
     "output_type": "stream",
     "text": [
      "Fixed version:\n",
      "Data: [1, 2, 3, 4, 5] → Positive numbers: [1, 2, 3, 4, 5] → Average: 3.0\n",
      "Data: [-1, -2, 3, 4, 5] → Positive numbers: [3, 4, 5] → Average: 4.0\n",
      "Data: [-1, -2, -3] → Positive numbers: [] → Average: 0\n",
      "Data: [] → Positive numbers: [] → Average: 0\n"
     ]
    }
   ],
   "source": [
    "# Step 2: Fix the bug - only count positive numbers\n",
    "def average_positive_numbers_fixed(numbers):\n",
    "    total = 0\n",
    "    count = 0\n",
    "    \n",
    "    for num in numbers:\n",
    "        if num > 0:\n",
    "            total += num\n",
    "            count += 1  # Fixed: only increment for positive numbers\n",
    "    \n",
    "    # Handle edge case: no positive numbers\n",
    "    if count == 0:\n",
    "        return 0  # or raise ValueError(\"No positive numbers found\")\n",
    "    \n",
    "    return total / count\n",
    "\n",
    "# Test all cases again\n",
    "print(\"Fixed version:\")\n",
    "for data in test_data:\n",
    "    result = average_positive_numbers_fixed(data)\n",
    "    positive_only = [n for n in data if n > 0]\n",
    "    print(f\"Data: {data} → Positive numbers: {positive_only} → Average: {result}\")"
   ]
  },
  {
   "cell_type": "markdown",
   "metadata": {},
   "source": [
    "### Debugging Process Summary\n",
    "\n",
    "1. **Read the error carefully** - Division by zero told us count was 0\n",
    "2. **Look at the line number** - Line with `total / count`\n",
    "3. **Print intermediate values** - Discovered count included all numbers\n",
    "4. **Fix and test** - Moved count increment inside if statement\n",
    "5. **Handle edge cases** - Added check for no positive numbers\n",
    "6. **Celebrate the learning!** - We now understand the importance of careful counting logic"
   ]
  },
  {
   "cell_type": "markdown",
   "metadata": {},
   "source": [
    "## 📍 7. Practice Challenge #1: The Shopping Calculator\n",
    "\n",
    "Time to test your debugging skills! This challenge has intentional bugs for you to find and fix.\n",
    "\n",
    "**For Live Demo:** We'll do this together\n",
    "**For Self-Study:** Try Challenges #2 and #3 on your own"
   ]
  },
  {
   "cell_type": "code",
   "execution_count": 68,
   "metadata": {},
   "outputs": [
    {
     "ename": "SyntaxError",
     "evalue": "expected ':' (3909807288.py, line 10)",
     "output_type": "error",
     "traceback": [
      "\u001b[0;36m  Cell \u001b[0;32mIn[68], line 10\u001b[0;36m\u001b[0m\n\u001b[0;31m    def calculate_total(items, tax_rate, discount_percent)\u001b[0m\n\u001b[0m                                                          ^\u001b[0m\n\u001b[0;31mSyntaxError\u001b[0m\u001b[0;31m:\u001b[0m expected ':'\n"
     ]
    }
   ],
   "source": [
    "# This function should calculate the total cost with tax and discount\n",
    "# Can you find and fix all the bugs?\n",
    "#\n",
    "# 🔍 HINTS:\n",
    "# Hint 1: Check line 1 - is something missing at the end?\n",
    "# Hint 2: Look at line 8 - is there a typo in the dictionary key?\n",
    "# Hint 3: Line 9 - should we add or multiply price and quantity?\n",
    "# Hint 4: Line 13 - percentages need special attention (10% = 0.10)\n",
    "\n",
    "def calculate_total(items, tax_rate, discount_percent)\n",
    "    subtotal = 0\n",
    "    \n",
    "    for item in items:\n",
    "        name = item['name']\n",
    "        price = item['price']\n",
    "        quantity = item['quatity']  # Bug #1\n",
    "        subtotal += price + quantity  # Bug #2\n",
    "    \n",
    "    # Apply discount\n",
    "    discount = subtotal * discount_percent  # Bug #3\n",
    "    after_discount = subtotal - discount\n",
    "    \n",
    "    # Apply tax\n",
    "    tax = after_discount * tax_rate\n",
    "    total = after_discount + tax\n",
    "    \n",
    "    return total\n",
    "\n",
    "# Test data\n",
    "shopping_cart = [\n",
    "    {'name': 'Laptop', 'price': 999.99, 'quantity': 1},\n",
    "    {'name': 'Mouse', 'price': 29.99, 'quantity': 2},\n",
    "    {'name': 'Keyboard', 'price': 79.99, 'quantity': 1}\n",
    "]\n",
    "\n",
    "# Should apply 8% tax and 10% discount\n",
    "total = calculate_total(shopping_cart, 0.08, 10)\n",
    "print(f\"Total: ${total:.2f}\")"
   ]
  },
  {
   "cell_type": "code",
   "execution_count": 66,
   "metadata": {},
   "outputs": [],
   "source": [
    "# Solution - try to fix it yourself first!\n",
    "# Then uncomment below to see the solution\n",
    "\n",
    "# def calculate_total(items, tax_rate, discount_percent):  # Fixed: Added colon\n",
    "#     subtotal = 0\n",
    "    \n",
    "#     for item in items:\n",
    "#         name = item['name']\n",
    "#         price = item['price']\n",
    "#         quantity = item['quantity']  # Fixed: Typo in 'quantity'\n",
    "#         subtotal += price * quantity  # Fixed: Should multiply, not add\n",
    "    \n",
    "#     # Apply discount\n",
    "#     discount = subtotal * (discount_percent / 100)  # Fixed: Convert percent to decimal\n",
    "#     after_discount = subtotal - discount\n",
    "    \n",
    "#     # Apply tax\n",
    "#     tax = after_discount * tax_rate\n",
    "#     total = after_discount + tax\n",
    "    \n",
    "#     return total"
   ]
  },
  {
   "cell_type": "markdown",
   "metadata": {},
   "source": [
    "## 🎉 Congratulations! End of Live Demo\n",
    "\n",
    "You've completed the live demo portion. You now know how to: <br>\n",
    "✓ Read error messages effectively <br>\n",
    "✓ Debug systematically <br>\n",
    "✓ Turn errors into learning opportunities\n",
    "\n",
    "### 📚 Continue Your Learning\n",
    "The sections below are for self-study. Explore them at your own pace to deepen your debugging skills!\n",
    "\n",
    "---\n",
    "\n",
    "# 📖 Self-Study Sections\n",
    "\n",
    "The following sections contain additional error types, advanced concepts, and more practice challenges."
   ]
  },
  {
   "cell_type": "markdown",
   "metadata": {},
   "source": [
    "## 📖 Additional Error Types"
   ]
  },
  {
   "cell_type": "markdown",
   "metadata": {},
   "source": [
    "### SyntaxError - The Grammar Teacher"
   ]
  },
  {
   "cell_type": "code",
   "execution_count": 71,
   "metadata": {},
   "outputs": [
    {
     "ename": "SyntaxError",
     "evalue": "expected ':' (3666233483.py, line 2)",
     "output_type": "error",
     "traceback": [
      "\u001b[0;36m  Cell \u001b[0;32mIn[71], line 2\u001b[0;36m\u001b[0m\n\u001b[0;31m    if True\u001b[0m\n\u001b[0m           ^\u001b[0m\n\u001b[0;31mSyntaxError\u001b[0m\u001b[0;31m:\u001b[0m expected ':'\n"
     ]
    }
   ],
   "source": [
    "# Missing colon - Python's most common syntax error\n",
    "if True\n",
    "    print(\"This won't work!\")"
   ]
  },
  {
   "cell_type": "code",
   "execution_count": 73,
   "metadata": {},
   "outputs": [
    {
     "name": "stdout",
     "output_type": "stream",
     "text": [
      "Now it works!\n"
     ]
    }
   ],
   "source": [
    "# ✅ Fixed version\n",
    "if True:\n",
    "    print(\"Now it works!\")"
   ]
  },
  {
   "cell_type": "markdown",
   "metadata": {},
   "source": [
    "### ValueError - The Value Validator"
   ]
  },
  {
   "cell_type": "code",
   "execution_count": 75,
   "metadata": {},
   "outputs": [
    {
     "ename": "ValueError",
     "evalue": "invalid literal for int() with base 10: 'twenty-five'",
     "output_type": "error",
     "traceback": [
      "\u001b[0;31m---------------------------------------------------------------------------\u001b[0m",
      "\u001b[0;31mValueError\u001b[0m                                Traceback (most recent call last)",
      "Cell \u001b[0;32mIn[75], line 3\u001b[0m\n\u001b[1;32m      1\u001b[0m \u001b[38;5;66;03m# Can't convert non-numeric string to int\u001b[39;00m\n\u001b[1;32m      2\u001b[0m user_input \u001b[38;5;241m=\u001b[39m \u001b[38;5;124m\"\u001b[39m\u001b[38;5;124mtwenty-five\u001b[39m\u001b[38;5;124m\"\u001b[39m\n\u001b[0;32m----> 3\u001b[0m age \u001b[38;5;241m=\u001b[39m \u001b[38;5;28mint\u001b[39m(user_input)\n",
      "\u001b[0;31mValueError\u001b[0m: invalid literal for int() with base 10: 'twenty-five'"
     ]
    }
   ],
   "source": [
    "# Can't convert non-numeric string to int\n",
    "user_input = \"twenty-five\"\n",
    "age = int(user_input)"
   ]
  },
  {
   "cell_type": "code",
   "execution_count": 77,
   "metadata": {},
   "outputs": [
    {
     "name": "stdout",
     "output_type": "stream",
     "text": [
      "Age is 25\n"
     ]
    }
   ],
   "source": [
    "# ✅ Fixed version with validation\n",
    "user_input = \"25\"\n",
    "try:\n",
    "    age = int(user_input)\n",
    "    print(f\"Age is {age}\")\n",
    "except ValueError:\n",
    "    print(\"Please enter a valid number\")"
   ]
  },
  {
   "cell_type": "markdown",
   "metadata": {},
   "source": [
    "### AttributeError - The Attribute Advisor"
   ]
  },
  {
   "cell_type": "code",
   "execution_count": 79,
   "metadata": {},
   "outputs": [
    {
     "ename": "AttributeError",
     "evalue": "'list' object has no attribute 'add'",
     "output_type": "error",
     "traceback": [
      "\u001b[0;31m---------------------------------------------------------------------------\u001b[0m",
      "\u001b[0;31mAttributeError\u001b[0m                            Traceback (most recent call last)",
      "Cell \u001b[0;32mIn[79], line 3\u001b[0m\n\u001b[1;32m      1\u001b[0m \u001b[38;5;66;03m# Trying to use a method that doesn't exist\u001b[39;00m\n\u001b[1;32m      2\u001b[0m numbers \u001b[38;5;241m=\u001b[39m [\u001b[38;5;241m1\u001b[39m, \u001b[38;5;241m2\u001b[39m, \u001b[38;5;241m3\u001b[39m]\n\u001b[0;32m----> 3\u001b[0m numbers\u001b[38;5;241m.\u001b[39madd(\u001b[38;5;241m4\u001b[39m)\n",
      "\u001b[0;31mAttributeError\u001b[0m: 'list' object has no attribute 'add'"
     ]
    }
   ],
   "source": [
    "# Trying to use a method that doesn't exist\n",
    "numbers = [1, 2, 3]\n",
    "numbers.add(4)  # Lists don't have 'add' method"
   ]
  },
  {
   "cell_type": "code",
   "execution_count": 81,
   "metadata": {},
   "outputs": [
    {
     "name": "stdout",
     "output_type": "stream",
     "text": [
      "[1, 2, 3, 4]\n"
     ]
    }
   ],
   "source": [
    "# ✅ Fixed version\n",
    "numbers = [1, 2, 3]\n",
    "numbers.append(4)  # Lists use 'append'\n",
    "print(numbers)"
   ]
  },
  {
   "cell_type": "markdown",
   "metadata": {},
   "source": [
    "### ZeroDivisionError - The Math Monitor"
   ]
  },
  {
   "cell_type": "code",
   "execution_count": 83,
   "metadata": {},
   "outputs": [
    {
     "ename": "ZeroDivisionError",
     "evalue": "division by zero",
     "output_type": "error",
     "traceback": [
      "\u001b[0;31m---------------------------------------------------------------------------\u001b[0m",
      "\u001b[0;31mZeroDivisionError\u001b[0m                         Traceback (most recent call last)",
      "Cell \u001b[0;32mIn[83], line 4\u001b[0m\n\u001b[1;32m      2\u001b[0m total \u001b[38;5;241m=\u001b[39m \u001b[38;5;241m100\u001b[39m\n\u001b[1;32m      3\u001b[0m count \u001b[38;5;241m=\u001b[39m \u001b[38;5;241m0\u001b[39m\n\u001b[0;32m----> 4\u001b[0m average \u001b[38;5;241m=\u001b[39m total \u001b[38;5;241m/\u001b[39m count\n",
      "\u001b[0;31mZeroDivisionError\u001b[0m: division by zero"
     ]
    }
   ],
   "source": [
    "# Division by zero\n",
    "total = 100\n",
    "count = 0\n",
    "average = total / count"
   ]
  },
  {
   "cell_type": "code",
   "execution_count": 85,
   "metadata": {},
   "outputs": [
    {
     "name": "stdout",
     "output_type": "stream",
     "text": [
      "Cannot divide by zero, using default value\n",
      "Average: 0\n"
     ]
    }
   ],
   "source": [
    "# ✅ Fixed version with safety check\n",
    "total = 100\n",
    "count = 0\n",
    "if count != 0:\n",
    "    average = total / count\n",
    "else:\n",
    "    average = 0\n",
    "    print(\"Cannot divide by zero, using default value\")\n",
    "print(f\"Average: {average}\")"
   ]
  },
  {
   "cell_type": "markdown",
   "metadata": {},
   "source": [
    "### IndentationError - The Format Friend"
   ]
  },
  {
   "cell_type": "code",
   "execution_count": 87,
   "metadata": {},
   "outputs": [
    {
     "ename": "IndentationError",
     "evalue": "expected an indented block after function definition on line 2 (4116083384.py, line 3)",
     "output_type": "error",
     "traceback": [
      "\u001b[0;36m  Cell \u001b[0;32mIn[87], line 3\u001b[0;36m\u001b[0m\n\u001b[0;31m    print(f\"Hello, {name}!\")  # Should be indented\u001b[0m\n\u001b[0m    ^\u001b[0m\n\u001b[0;31mIndentationError\u001b[0m\u001b[0;31m:\u001b[0m expected an indented block after function definition on line 2\n"
     ]
    }
   ],
   "source": [
    "# Incorrect indentation\n",
    "def greet(name):\n",
    "print(f\"Hello, {name}!\")  # Should be indented"
   ]
  },
  {
   "cell_type": "code",
   "execution_count": 89,
   "metadata": {},
   "outputs": [
    {
     "name": "stdout",
     "output_type": "stream",
     "text": [
      "Hello, Python Learner!\n"
     ]
    }
   ],
   "source": [
    "# ✅ Fixed version\n",
    "def greet(name):\n",
    "    print(f\"Hello, {name}!\")\n",
    "    \n",
    "greet(\"Python Learner\")"
   ]
  },
  {
   "cell_type": "markdown",
   "metadata": {},
   "source": [
    "### FileNotFoundError - The File Finder"
   ]
  },
  {
   "cell_type": "code",
   "execution_count": 91,
   "metadata": {},
   "outputs": [
    {
     "ename": "FileNotFoundError",
     "evalue": "[Errno 2] No such file or directory: 'this_file_does_not_exist.txt'",
     "output_type": "error",
     "traceback": [
      "\u001b[0;31m---------------------------------------------------------------------------\u001b[0m",
      "\u001b[0;31mFileNotFoundError\u001b[0m                         Traceback (most recent call last)",
      "Cell \u001b[0;32mIn[91], line 2\u001b[0m\n\u001b[1;32m      1\u001b[0m \u001b[38;5;66;03m# Opening non-existent file\u001b[39;00m\n\u001b[0;32m----> 2\u001b[0m \u001b[38;5;28;01mwith\u001b[39;00m \u001b[38;5;28mopen\u001b[39m(\u001b[38;5;124m\"\u001b[39m\u001b[38;5;124mthis_file_does_not_exist.txt\u001b[39m\u001b[38;5;124m\"\u001b[39m, \u001b[38;5;124m\"\u001b[39m\u001b[38;5;124mr\u001b[39m\u001b[38;5;124m\"\u001b[39m) \u001b[38;5;28;01mas\u001b[39;00m f:\n\u001b[1;32m      3\u001b[0m     content \u001b[38;5;241m=\u001b[39m f\u001b[38;5;241m.\u001b[39mread()\n",
      "File \u001b[0;32m/opt/anaconda3/lib/python3.12/site-packages/IPython/core/interactiveshell.py:324\u001b[0m, in \u001b[0;36m_modified_open\u001b[0;34m(file, *args, **kwargs)\u001b[0m\n\u001b[1;32m    317\u001b[0m \u001b[38;5;28;01mif\u001b[39;00m file \u001b[38;5;129;01min\u001b[39;00m {\u001b[38;5;241m0\u001b[39m, \u001b[38;5;241m1\u001b[39m, \u001b[38;5;241m2\u001b[39m}:\n\u001b[1;32m    318\u001b[0m     \u001b[38;5;28;01mraise\u001b[39;00m \u001b[38;5;167;01mValueError\u001b[39;00m(\n\u001b[1;32m    319\u001b[0m         \u001b[38;5;124mf\u001b[39m\u001b[38;5;124m\"\u001b[39m\u001b[38;5;124mIPython won\u001b[39m\u001b[38;5;124m'\u001b[39m\u001b[38;5;124mt let you open fd=\u001b[39m\u001b[38;5;132;01m{\u001b[39;00mfile\u001b[38;5;132;01m}\u001b[39;00m\u001b[38;5;124m by default \u001b[39m\u001b[38;5;124m\"\u001b[39m\n\u001b[1;32m    320\u001b[0m         \u001b[38;5;124m\"\u001b[39m\u001b[38;5;124mas it is likely to crash IPython. If you know what you are doing, \u001b[39m\u001b[38;5;124m\"\u001b[39m\n\u001b[1;32m    321\u001b[0m         \u001b[38;5;124m\"\u001b[39m\u001b[38;5;124myou can use builtins\u001b[39m\u001b[38;5;124m'\u001b[39m\u001b[38;5;124m open.\u001b[39m\u001b[38;5;124m\"\u001b[39m\n\u001b[1;32m    322\u001b[0m     )\n\u001b[0;32m--> 324\u001b[0m \u001b[38;5;28;01mreturn\u001b[39;00m io_open(file, \u001b[38;5;241m*\u001b[39margs, \u001b[38;5;241m*\u001b[39m\u001b[38;5;241m*\u001b[39mkwargs)\n",
      "\u001b[0;31mFileNotFoundError\u001b[0m: [Errno 2] No such file or directory: 'this_file_does_not_exist.txt'"
     ]
    }
   ],
   "source": [
    "# Opening non-existent file\n",
    "with open(\"this_file_does_not_exist.txt\", \"r\") as f:\n",
    "    content = f.read()"
   ]
  },
  {
   "cell_type": "code",
   "execution_count": 93,
   "metadata": {},
   "outputs": [
    {
     "name": "stdout",
     "output_type": "stream",
     "text": [
      "File 'data.txt' not found. Creating a sample file...\n",
      "File created!\n",
      "Cleaned up temporary file.\n"
     ]
    }
   ],
   "source": [
    "# ✅ Fixed version with error handling\n",
    "import os\n",
    "\n",
    "filename = \"data.txt\"\n",
    "if os.path.exists(filename):\n",
    "    with open(filename, \"r\") as f:\n",
    "        content = f.read()\n",
    "        print(f\"Read content: {content}\")\n",
    "else:\n",
    "    print(f\"File '{filename}' not found. Creating a sample file...\")\n",
    "    with open(filename, \"w\") as f:\n",
    "        f.write(\"Sample data\")\n",
    "    print(\"File created!\")\n",
    "\n",
    "# Clean up after ourselves\n",
    "if os.path.exists(filename):\n",
    "    os.remove(filename)\n",
    "    print(\"Cleaned up temporary file.\")"
   ]
  },
  {
   "cell_type": "markdown",
   "metadata": {},
   "source": [
    "### ModuleNotFoundError - The Import Inspector"
   ]
  },
  {
   "cell_type": "code",
   "execution_count": 95,
   "metadata": {},
   "outputs": [
    {
     "ename": "ModuleNotFoundError",
     "evalue": "No module named 'my_imaginary_module'",
     "output_type": "error",
     "traceback": [
      "\u001b[0;31m---------------------------------------------------------------------------\u001b[0m",
      "\u001b[0;31mModuleNotFoundError\u001b[0m                       Traceback (most recent call last)",
      "Cell \u001b[0;32mIn[95], line 2\u001b[0m\n\u001b[1;32m      1\u001b[0m \u001b[38;5;66;03m# Trying to import non-existent module\u001b[39;00m\n\u001b[0;32m----> 2\u001b[0m \u001b[38;5;28;01mimport\u001b[39;00m \u001b[38;5;21;01mmy_imaginary_module\u001b[39;00m\n",
      "\u001b[0;31mModuleNotFoundError\u001b[0m: No module named 'my_imaginary_module'"
     ]
    }
   ],
   "source": [
    "# Trying to import non-existent module\n",
    "import my_imaginary_module"
   ]
  },
  {
   "cell_type": "code",
   "execution_count": 97,
   "metadata": {},
   "outputs": [
    {
     "name": "stdout",
     "output_type": "stream",
     "text": [
      "Square root of 16 is: 4.0\n"
     ]
    }
   ],
   "source": [
    "# ✅ Fixed version - import a real module\n",
    "import math\n",
    "print(f\"Square root of 16 is: {math.sqrt(16)}\")"
   ]
  },
  {
   "cell_type": "markdown",
   "metadata": {},
   "source": [
    "### UnboundLocalError - The Scope Supervisor"
   ]
  },
  {
   "cell_type": "code",
   "execution_count": 99,
   "metadata": {},
   "outputs": [
    {
     "ename": "UnboundLocalError",
     "evalue": "cannot access local variable 'count' where it is not associated with a value",
     "output_type": "error",
     "traceback": [
      "\u001b[0;31m---------------------------------------------------------------------------\u001b[0m",
      "\u001b[0;31mUnboundLocalError\u001b[0m                         Traceback (most recent call last)",
      "Cell \u001b[0;32mIn[99], line 8\u001b[0m\n\u001b[1;32m      5\u001b[0m     count \u001b[38;5;241m=\u001b[39m count \u001b[38;5;241m+\u001b[39m \u001b[38;5;241m1\u001b[39m  \u001b[38;5;66;03m# Error: local variable referenced before assignment\u001b[39;00m\n\u001b[1;32m      6\u001b[0m     \u001b[38;5;28;01mreturn\u001b[39;00m count\n\u001b[0;32m----> 8\u001b[0m increment()\n",
      "Cell \u001b[0;32mIn[99], line 5\u001b[0m, in \u001b[0;36mincrement\u001b[0;34m()\u001b[0m\n\u001b[1;32m      4\u001b[0m \u001b[38;5;28;01mdef\u001b[39;00m \u001b[38;5;21mincrement\u001b[39m():\n\u001b[0;32m----> 5\u001b[0m     count \u001b[38;5;241m=\u001b[39m count \u001b[38;5;241m+\u001b[39m \u001b[38;5;241m1\u001b[39m  \u001b[38;5;66;03m# Error: local variable referenced before assignment\u001b[39;00m\n\u001b[1;32m      6\u001b[0m     \u001b[38;5;28;01mreturn\u001b[39;00m count\n",
      "\u001b[0;31mUnboundLocalError\u001b[0m: cannot access local variable 'count' where it is not associated with a value"
     ]
    }
   ],
   "source": [
    "# Using variable before assignment in function\n",
    "count = 10\n",
    "\n",
    "def increment():\n",
    "    count = count + 1  # Error: local variable referenced before assignment\n",
    "    return count\n",
    "\n",
    "increment()"
   ]
  },
  {
   "cell_type": "code",
   "execution_count": 101,
   "metadata": {},
   "outputs": [
    {
     "name": "stdout",
     "output_type": "stream",
     "text": [
      "New count: 11\n"
     ]
    }
   ],
   "source": [
    "# ✅ Fixed version - use global or pass as parameter\n",
    "count = 10\n",
    "\n",
    "def increment(current_count):\n",
    "    return current_count + 1\n",
    "\n",
    "count = increment(count)\n",
    "print(f\"New count: {count}\")"
   ]
  },
  {
   "cell_type": "markdown",
   "metadata": {},
   "source": [
    "### OverflowError - The Limit Lecturer"
   ]
  },
  {
   "cell_type": "code",
   "execution_count": 103,
   "metadata": {},
   "outputs": [
    {
     "ename": "OverflowError",
     "evalue": "math range error",
     "output_type": "error",
     "traceback": [
      "\u001b[0;31m---------------------------------------------------------------------------\u001b[0m",
      "\u001b[0;31mOverflowError\u001b[0m                             Traceback (most recent call last)",
      "Cell \u001b[0;32mIn[103], line 3\u001b[0m\n\u001b[1;32m      1\u001b[0m \u001b[38;5;66;03m# Number too large for float\u001b[39;00m\n\u001b[1;32m      2\u001b[0m \u001b[38;5;28;01mimport\u001b[39;00m \u001b[38;5;21;01mmath\u001b[39;00m\n\u001b[0;32m----> 3\u001b[0m result \u001b[38;5;241m=\u001b[39m math\u001b[38;5;241m.\u001b[39mexp(\u001b[38;5;241m1000\u001b[39m)\n",
      "\u001b[0;31mOverflowError\u001b[0m: math range error"
     ]
    }
   ],
   "source": [
    "# Number too large for float\n",
    "import math\n",
    "result = math.exp(1000)  # e^1000 is too large"
   ]
  },
  {
   "cell_type": "code",
   "execution_count": 105,
   "metadata": {},
   "outputs": [
    {
     "name": "stdout",
     "output_type": "stream",
     "text": [
      "Number too large to compute!\n",
      "Log of result: 1000\n"
     ]
    }
   ],
   "source": [
    "# ✅ Fixed version - handle large numbers carefully\n",
    "import math\n",
    "try:\n",
    "    result = math.exp(1000)\n",
    "except OverflowError:\n",
    "    print(\"Number too large to compute!\")\n",
    "    # Use log scale or approximation\n",
    "    log_result = 1000  # log(e^1000) = 1000\n",
    "    print(f\"Log of result: {log_result}\")"
   ]
  },
  {
   "cell_type": "markdown",
   "metadata": {},
   "source": [
    "### NotImplementedError - The Placeholder Professor"
   ]
  },
  {
   "cell_type": "code",
   "execution_count": 107,
   "metadata": {},
   "outputs": [
    {
     "ename": "NotImplementedError",
     "evalue": "Subclasses must implement this method",
     "output_type": "error",
     "traceback": [
      "\u001b[0;31m---------------------------------------------------------------------------\u001b[0m",
      "\u001b[0;31mNotImplementedError\u001b[0m                       Traceback (most recent call last)",
      "Cell \u001b[0;32mIn[107], line 10\u001b[0m\n\u001b[1;32m      7\u001b[0m     \u001b[38;5;28;01mpass\u001b[39;00m  \u001b[38;5;66;03m# Forgot to implement make_sound\u001b[39;00m\n\u001b[1;32m      9\u001b[0m dog \u001b[38;5;241m=\u001b[39m Dog()\n\u001b[0;32m---> 10\u001b[0m dog\u001b[38;5;241m.\u001b[39mmake_sound()\n",
      "Cell \u001b[0;32mIn[107], line 4\u001b[0m, in \u001b[0;36mAnimal.make_sound\u001b[0;34m(self)\u001b[0m\n\u001b[1;32m      3\u001b[0m \u001b[38;5;28;01mdef\u001b[39;00m \u001b[38;5;21mmake_sound\u001b[39m(\u001b[38;5;28mself\u001b[39m):\n\u001b[0;32m----> 4\u001b[0m     \u001b[38;5;28;01mraise\u001b[39;00m \u001b[38;5;167;01mNotImplementedError\u001b[39;00m(\u001b[38;5;124m\"\u001b[39m\u001b[38;5;124mSubclasses must implement this method\u001b[39m\u001b[38;5;124m\"\u001b[39m)\n",
      "\u001b[0;31mNotImplementedError\u001b[0m: Subclasses must implement this method"
     ]
    }
   ],
   "source": [
    "# Abstract method not implemented\n",
    "class Animal:\n",
    "    def make_sound(self):\n",
    "        raise NotImplementedError(\"Subclasses must implement this method\")\n",
    "\n",
    "class Dog(Animal):\n",
    "    pass  # Forgot to implement make_sound\n",
    "\n",
    "dog = Dog()\n",
    "dog.make_sound()"
   ]
  },
  {
   "cell_type": "code",
   "execution_count": 109,
   "metadata": {},
   "outputs": [
    {
     "name": "stdout",
     "output_type": "stream",
     "text": [
      "Woof!\n"
     ]
    }
   ],
   "source": [
    "# ✅ Fixed version\n",
    "class Animal:\n",
    "    def make_sound(self):\n",
    "        raise NotImplementedError(\"Subclasses must implement this method\")\n",
    "\n",
    "class Dog(Animal):\n",
    "    def make_sound(self):\n",
    "        return \"Woof!\"\n",
    "\n",
    "dog = Dog()\n",
    "print(dog.make_sound())"
   ]
  },
  {
   "cell_type": "markdown",
   "metadata": {},
   "source": [
    "## 📖 Exception Handling Patterns\n",
    "\n",
    "### When to Use try/except vs if/else\n",
    "\n",
    "There are two main approaches to handling potential errors:\n",
    "\n",
    "1. **LBYL (Look Before You Leap)** - Check first with if/else\n",
    "   - Good for simple checks (is list empty? does key exist?)\n",
    "   - Can make code verbose\n",
    "\n",
    "2. **EAFP (Easier to Ask for Forgiveness than Permission)** - Try first, handle errors\n",
    "   - More Pythonic\n",
    "   - Often cleaner for complex operations\n",
    "   - Better performance when errors are rare\n",
    "\n",
    "**Use if/else when:**\n",
    "- The check is simple and clear\n",
    "- You need to handle multiple conditions differently\n",
    "- Performance of the check is negligible\n",
    "\n",
    "**Use try/except when:**\n",
    "- The operation might fail in multiple ways\n",
    "- The error is exceptional (not expected often)\n",
    "- The code is cleaner without pre-checks\n",
    "- You're following Python conventions (EAFP)"
   ]
  },
  {
   "cell_type": "code",
   "execution_count": 112,
   "metadata": {},
   "outputs": [
    {
     "name": "stdout",
     "output_type": "stream",
     "text": [
      "Alice's email: alice@example.com\n",
      "Bob's email: No email found\n",
      "Charlie's email: No email found\n"
     ]
    }
   ],
   "source": [
    "# LBYL (Look Before You Leap) approach - less Pythonic\n",
    "def get_value_lbyl(dictionary, key):\n",
    "    if key in dictionary:\n",
    "        return dictionary[key]\n",
    "    else:\n",
    "        return None\n",
    "\n",
    "# EAFP (Easier to Ask for Forgiveness) approach - more Pythonic\n",
    "def get_value_eafp(dictionary, key):\n",
    "    try:\n",
    "        return dictionary[key]\n",
    "    except KeyError:\n",
    "        return None\n",
    "\n",
    "# Real-world example: working with nested data\n",
    "user_data = {\n",
    "    \"alice\": {\"age\": 25, \"email\": \"alice@example.com\"},\n",
    "    \"bob\": {\"age\": 30}  # No email!\n",
    "}\n",
    "\n",
    "# EAFP makes code cleaner for nested access\n",
    "def get_user_email(username):\n",
    "    try:\n",
    "        return user_data[username][\"email\"]\n",
    "    except KeyError:\n",
    "        return \"No email found\"\n",
    "\n",
    "print(f\"Alice's email: {get_user_email('alice')}\")\n",
    "print(f\"Bob's email: {get_user_email('bob')}\")\n",
    "print(f\"Charlie's email: {get_user_email('charlie')}\")"
   ]
  },
  {
   "cell_type": "markdown",
   "metadata": {},
   "source": [
    "## 📖 How to Google Error Messages Like a Pro\n",
    "\n",
    "### Common Googling Patterns\n",
    "\n",
    "When you encounter an error, knowing how to search for help is crucial. Here's how to do it effectively:"
   ]
  },
  {
   "cell_type": "code",
   "execution_count": 114,
   "metadata": {},
   "outputs": [
    {
     "name": "stdout",
     "output_type": "stream",
     "text": [
      "❌ Don't search for:\n",
      "  'TypeError: unsupported operand type(s) for +: 'int' and 'str' in line 42 of /Users/alice/projects/my_app.py'\n",
      "\n",
      "✅ Instead, search for:\n",
      "  'Python TypeError unsupported operand type int str'\n",
      "  'Python can't add int and str'\n",
      "  'TypeError: unsupported operand type(s) for +: 'int' and 'str''\n",
      "  'Python convert string to int before adding'\n"
     ]
    }
   ],
   "source": [
    "# Example error message\n",
    "error_message = \"\"\"\n",
    "Traceback (most recent call last):\n",
    "  File \"/Users/alice/projects/my_app.py\", line 42, in process_data\n",
    "    result = int(user_input) + total\n",
    "TypeError: unsupported operand type(s) for +: 'int' and 'str'\n",
    "\"\"\"\n",
    "\n",
    "# ❌ BAD Google search (too specific, includes personal paths):\n",
    "bad_search = \"TypeError: unsupported operand type(s) for +: 'int' and 'str' in line 42 of /Users/alice/projects/my_app.py\"\n",
    "\n",
    "# ✅ GOOD Google searches:\n",
    "good_searches = [\n",
    "    \"Python TypeError unsupported operand type int str\",\n",
    "    \"Python can't add int and str\",\n",
    "    \"TypeError: unsupported operand type(s) for +: 'int' and 'str'\",\n",
    "    \"Python convert string to int before adding\"\n",
    "]\n",
    "\n",
    "print(\"❌ Don't search for:\")\n",
    "print(f\"  '{bad_search}'\")\n",
    "print(\"\\n✅ Instead, search for:\")\n",
    "for search in good_searches:\n",
    "    print(f\"  '{search}'\")"
   ]
  },
  {
   "cell_type": "markdown",
   "metadata": {},
   "source": [
    "### Google Search Tips:\n",
    "\n",
    "1. **Remove personal information**: File paths, variable names, your specific data\n",
    "2. **Keep the error type and key message**: The actual error description\n",
    "3. **Add \"Python\" to your search**: Helps filter results\n",
    "4. **Try multiple phrasings**: Sometimes simpler is better\n",
    "5. **Look for Stack Overflow results**: They often have the best explanations\n",
    "\n",
    "### Pro tip: \n",
    "If the first search doesn't help, try explaining what you're trying to do:\n",
    "- \"Python how to convert string to integer safely\"\n",
    "- \"Python handle mixed types in calculations\""
   ]
  },
  {
   "cell_type": "markdown",
   "metadata": {},
   "source": [
    "## 📖 Practice Challenge #2: The Grade Processor"
   ]
  },
  {
   "cell_type": "code",
   "execution_count": 116,
   "metadata": {},
   "outputs": [
    {
     "ename": "KeyError",
     "evalue": "'Bob'",
     "output_type": "error",
     "traceback": [
      "\u001b[0;31m---------------------------------------------------------------------------\u001b[0m",
      "\u001b[0;31mKeyError\u001b[0m                                  Traceback (most recent call last)",
      "Cell \u001b[0;32mIn[116], line 53\u001b[0m\n\u001b[1;32m     50\u001b[0m gradebook\u001b[38;5;241m.\u001b[39madd_grade(\u001b[38;5;124m\"\u001b[39m\u001b[38;5;124mAlice\u001b[39m\u001b[38;5;124m\"\u001b[39m, \u001b[38;5;241m85\u001b[39m)\n\u001b[1;32m     52\u001b[0m \u001b[38;5;66;03m# This will cause an error\u001b[39;00m\n\u001b[0;32m---> 53\u001b[0m gradebook\u001b[38;5;241m.\u001b[39madd_grade(\u001b[38;5;124m\"\u001b[39m\u001b[38;5;124mBob\u001b[39m\u001b[38;5;124m\"\u001b[39m, \u001b[38;5;241m88\u001b[39m)  \u001b[38;5;66;03m# Bob was never added!\u001b[39;00m\n\u001b[1;32m     55\u001b[0m \u001b[38;5;66;03m# More tests\u001b[39;00m\n\u001b[1;32m     56\u001b[0m gradebook\u001b[38;5;241m.\u001b[39madd_student(\u001b[38;5;124m\"\u001b[39m\u001b[38;5;124mCharlie\u001b[39m\u001b[38;5;124m\"\u001b[39m)  \u001b[38;5;66;03m# Charlie has no grades\u001b[39;00m\n",
      "Cell \u001b[0;32mIn[116], line 18\u001b[0m, in \u001b[0;36mGradeBook.add_grade\u001b[0;34m(self, name, grade)\u001b[0m\n\u001b[1;32m     17\u001b[0m \u001b[38;5;28;01mdef\u001b[39;00m \u001b[38;5;21madd_grade\u001b[39m(\u001b[38;5;28mself\u001b[39m, name, grade):\n\u001b[0;32m---> 18\u001b[0m     \u001b[38;5;28mself\u001b[39m\u001b[38;5;241m.\u001b[39mstudents[name]\u001b[38;5;241m.\u001b[39mappend(grade)\n",
      "\u001b[0;31mKeyError\u001b[0m: 'Bob'"
     ]
    }
   ],
   "source": [
    "# This class should manage student grades\n",
    "# Find and fix the bugs!\n",
    "#\n",
    "# 🔍 HINTS:\n",
    "# Hint 1: What happens when you try to add a grade for a student who doesn't exist?\n",
    "# Hint 2: What if a student has no grades when calculating average?\n",
    "# Hint 3: What if the gradebook is completely empty?\n",
    "# Hint 4: Consider using if/else checks or try/except blocks\n",
    "\n",
    "class GradeBook:\n",
    "    def __init__(self):\n",
    "        self.students = {}\n",
    "    \n",
    "    def add_student(self, name):\n",
    "        self.students[name] = []\n",
    "    \n",
    "    def add_grade(self, name, grade):\n",
    "        self.students[name].append(grade)  # Bug #1: What if student doesn't exist?\n",
    "    \n",
    "    def get_average(self, name):\n",
    "        grades = self.students[name]\n",
    "        return sum(grades) / len(grades)  # Bug #2: What if no grades?\n",
    "    \n",
    "    def get_class_average(self):\n",
    "        total = 0\n",
    "        count = 0\n",
    "        for student in self.students:\n",
    "            total += self.get_average(student)\n",
    "            count += 1\n",
    "        return total / count  # Bug #3: What if no students?\n",
    "    \n",
    "    def get_top_student(self):\n",
    "        top_student = None\n",
    "        top_average = 0\n",
    "        \n",
    "        for student in self.students:\n",
    "            avg = self.get_average(student)\n",
    "            if avg > top_average:\n",
    "                top_average = avg\n",
    "                top_student = student\n",
    "        \n",
    "        return top_student, top_average\n",
    "\n",
    "# Test the class\n",
    "gradebook = GradeBook()\n",
    "\n",
    "# Add some students and grades\n",
    "gradebook.add_student(\"Alice\")\n",
    "gradebook.add_grade(\"Alice\", 90)\n",
    "gradebook.add_grade(\"Alice\", 85)\n",
    "\n",
    "# This will cause an error\n",
    "gradebook.add_grade(\"Bob\", 88)  # Bob was never added!\n",
    "\n",
    "# More tests\n",
    "gradebook.add_student(\"Charlie\")  # Charlie has no grades\n",
    "print(gradebook.get_average(\"Charlie\"))  # This will error\n",
    "\n",
    "# Empty gradebook test\n",
    "empty_gradebook = GradeBook()\n",
    "print(empty_gradebook.get_class_average())  # This will error"
   ]
  },
  {
   "cell_type": "markdown",
   "metadata": {},
   "source": [
    "## 📖 Practice Challenge #3: The Data Pipeline"
   ]
  },
  {
   "cell_type": "code",
   "execution_count": 118,
   "metadata": {},
   "outputs": [
    {
     "name": "stdout",
     "output_type": "stream",
     "text": [
      "✅ Registered: {'name': 'John Doe', 'email': 'john@example.com', 'age': 25, 'account_type': 'standard'}\n",
      "❌ Failed for jane smith: invalid literal for int() with base 10: 'twenty'\n",
      "❌ Failed for Unknown: 'name'\n",
      "❌ Failed for alice: Must be 18 or older\n"
     ]
    }
   ],
   "source": [
    "# This data pipeline should validate and process user registration data\n",
    "# Find and fix all the bugs!\n",
    "#\n",
    "# 🔍 HINTS:\n",
    "# Hint 1: Check what happens with missing fields\n",
    "# Hint 2: Email validation might be too strict\n",
    "# Hint 3: Age conversion needs error handling\n",
    "# Hint 4: Password requirements need careful checking\n",
    "\n",
    "def validate_email(email):\n",
    "    return '@' in email and '.' in email.split('@')[1]\n",
    "\n",
    "def validate_password(password):\n",
    "    # Password must be at least 8 chars with 1 number\n",
    "    has_number = any(char.isdigit() for char in password)\n",
    "    return len(password) >= 8 and has_number\n",
    "\n",
    "def process_registration(user_data):\n",
    "    # Extract fields\n",
    "    name = user_data['name']\n",
    "    email = user_data['email']\n",
    "    age = int(user_data['age'])  # Bug: What if age is not a number?\n",
    "    password = user_data['password']\n",
    "    \n",
    "    # Validate\n",
    "    if not validate_email(email):\n",
    "        raise ValueError(\"Invalid email format\")\n",
    "    \n",
    "    if age < 18:  # Bug: What if age conversion failed?\n",
    "        raise ValueError(\"Must be 18 or older\")\n",
    "    \n",
    "    if not validate_password(password):\n",
    "        raise ValueError(\"Password must be 8+ chars with 1 number\")\n",
    "    \n",
    "    # Create user record\n",
    "    return {\n",
    "        'name': name.strip().title(),\n",
    "        'email': email.lower(),\n",
    "        'age': age,\n",
    "        'account_type': 'standard'\n",
    "    }\n",
    "\n",
    "# Test data with various issues\n",
    "test_users = [\n",
    "    {'name': 'john doe', 'email': 'JOHN@EXAMPLE.COM', 'age': '25', 'password': 'secure123'},\n",
    "    {'name': 'jane smith', 'email': 'jane@example', 'age': 'twenty', 'password': 'password1'},\n",
    "    {'email': 'bob@example.com', 'age': '30', 'password': 'pass'},  # Missing name\n",
    "    {'name': 'alice', 'email': 'alice@example.com', 'age': '17', 'password': 'alice2023'},\n",
    "]\n",
    "\n",
    "for user in test_users:\n",
    "    try:\n",
    "        result = process_registration(user)\n",
    "        print(f\"✅ Registered: {result}\")\n",
    "    except Exception as e:\n",
    "        print(f\"❌ Failed for {user.get('name', 'Unknown')}: {e}\")"
   ]
  },
  {
   "cell_type": "markdown",
   "metadata": {},
   "source": [
    "## 📖 (Very Important!!!) The Transferable Skill\n",
    "\n",
    "### Error Patterns Across Languages\n",
    "\n",
    "The debugging skills you've learned today apply to **every programming language** you'll ever use!\n",
    "\n",
    "#### Universal Pattern: WHAT went wrong, WHERE it happened\n",
    "\n",
    "| Python | Java | JavaScript | C++ |\n",
    "|--------|------|--------------|-----|\n",
    "| NameError | NullPointerException | ReferenceError | Segmentation Fault |\n",
    "| TypeError | ClassCastException | TypeError | Type Mismatch |\n",
    "| IndexError | ArrayIndexOutOfBoundsException | RangeError | Buffer Overflow |\n",
    "| KeyError | NoSuchElementException | undefined property | std::out_of_range |\n",
    "| ValueError | IllegalArgumentException | Invalid Input | Invalid Argument |\n",
    "| ZeroDivisionError | ArithmeticException | Division by Zero | Floating Point Exception |\n",
    "\n",
    "### 🌍 Visual Example: Same Error, Different Languages\n",
    "\n",
    "Here's how the same \"index out of bounds\" error looks across languages:\n",
    "\n",
    "```python\n",
    "# Python\n",
    "fruits = [\"apple\", \"banana\", \"orange\"]\n",
    "print(fruits[3])\n",
    "# IndexError: list index out of range at line 2\n",
    "```\n",
    "\n",
    "```java\n",
    "// Java\n",
    "String[] fruits = {\"apple\", \"banana\", \"orange\"};\n",
    "System.out.println(fruits[3]);\n",
    "// ArrayIndexOutOfBoundsException: Index 3 out of bounds for length 3 at line 2\n",
    "```\n",
    "\n",
    "```javascript\n",
    "// JavaScript\n",
    "const fruits = [\"apple\", \"banana\", \"orange\"];\n",
    "console.log(fruits[3]);\n",
    "// undefined (JavaScript is more forgiving, but this is still an error!)\n",
    "```\n",
    "\n",
    "```cpp\n",
    "// C++\n",
    "std::vector<string> fruits = {\"apple\", \"banana\", \"orange\"};\n",
    "cout << fruits.at(3);\n",
    "// std::out_of_range: vector::at at line 2\n",
    "```\n",
    "\n",
    "**All saying the same thing:** \"You tried to access index 3, but it doesn't exist!\"\n",
    "\n",
    "### Different Error Philosophies\n",
    "\n",
    "- **Python**: Exceptions are normal, use them for control flow (EAFP)\n",
    "- **Go**: Explicit error returns (`if err != nil`)\n",
    "- **Rust**: Result types that must be handled\n",
    "- **Java**: Checked vs unchecked exceptions\n",
    "- **JavaScript**: Errors often fail silently (undefined)\n",
    "\n",
    "### The Debugging Mindset Is Universal\n",
    "\n",
    "No matter the language:\n",
    "1. **Read** the error message\n",
    "2. **Locate** where it happened\n",
    "3. **Understand** what went wrong\n",
    "4. **Test** your hypothesis\n",
    "5. **Learn** from the solution\n",
    "\n",
    "### Your Journey Forward\n",
    "\n",
    "Remember:\n",
    "- Every expert was once a beginner who didn't give up\n",
    "- Errors are proof that you're trying and learning\n",
    "- The best debuggers have seen the most errors\n",
    "- Each error makes you a stronger programmer\n",
    "\n",
    "### Resources for Continued Learning\n",
    "\n",
    "1. **Python Debugging**:\n",
    "   - Python's official debugging documentation\n",
    "   - PDB (Python Debugger) tutorials\n",
    "   - IDE debugging features (PyCharm, VS Code)\n",
    "\n",
    "2. **General Debugging Skills**:\n",
    "   - \"Debugging: The 9 Indispensable Rules\" by David Agans\n",
    "   - Rubber duck debugging technique\n",
    "   - Stack Overflow - learning from others' errors\n",
    "\n",
    "3. **Practice Platforms**:\n",
    "   - Python Tutor (visualize code execution)\n",
    "   - Debugging challenges on coding platforms\n",
    "   - Contributing to open source (see real-world debugging)\n",
    "\n",
    "### Final Thought\n",
    "\n",
    "**Errors are not failures - they're feedback.** Each error message is Python trying to help you succeed. Welcome them, read them, learn from them, and watch yourself grow as a programmer!\n",
    "\n",
    "Happy debugging! 🐛 → 🦋"
   ]
  }
 ],
 "metadata": {
  "kernelspec": {
   "display_name": "base",
   "language": "python",
   "name": "python3"
  },
  "language_info": {
   "codemirror_mode": {
    "name": "ipython",
    "version": 3
   },
   "file_extension": ".py",
   "mimetype": "text/x-python",
   "name": "python",
   "nbconvert_exporter": "python",
   "pygments_lexer": "ipython3",
   "version": "3.12.4"
  }
 },
 "nbformat": 4,
 "nbformat_minor": 4
}
